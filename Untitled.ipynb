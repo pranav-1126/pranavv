{
 "cells": [
  {
   "cell_type": "code",
   "execution_count": 5,
   "id": "427e0658-f8fe-4612-9b14-f726cff56d43",
   "metadata": {},
   "outputs": [],
   "source": [
    "import numpy as np"
   ]
  },
  {
   "cell_type": "code",
   "execution_count": 6,
   "id": "c0afaddd-3c18-484e-b436-98afa25d5161",
   "metadata": {},
   "outputs": [],
   "source": [
    "np1 = np.array([1,2,3,4,5,6])"
   ]
  },
  {
   "cell_type": "code",
   "execution_count": 7,
   "id": "ebc8abde-8aa5-4512-88cd-520cc3e07e58",
   "metadata": {},
   "outputs": [
    {
     "name": "stdout",
     "output_type": "stream",
     "text": [
      "[1 2 3 4 5 6]\n"
     ]
    }
   ],
   "source": [
    "print(np1)"
   ]
  },
  {
   "cell_type": "code",
   "execution_count": 8,
   "id": "af2200c8-deb1-4e9d-8074-759048d4b628",
   "metadata": {},
   "outputs": [
    {
     "data": {
      "text/plain": [
       "dtype('int64')"
      ]
     },
     "execution_count": 8,
     "metadata": {},
     "output_type": "execute_result"
    }
   ],
   "source": [
    "np1.dtype"
   ]
  },
  {
   "cell_type": "code",
   "execution_count": 9,
   "id": "d6d601c1-7270-4415-821c-ef2492741bdd",
   "metadata": {},
   "outputs": [],
   "source": [
    "np2 = np.zeros((2,10))"
   ]
  },
  {
   "cell_type": "code",
   "execution_count": 10,
   "id": "e31dc5d7-89c3-48bb-890b-5e7513f7f0c3",
   "metadata": {},
   "outputs": [
    {
     "data": {
      "text/plain": [
       "array([[0., 0., 0., 0., 0., 0., 0., 0., 0., 0.],\n",
       "       [0., 0., 0., 0., 0., 0., 0., 0., 0., 0.]])"
      ]
     },
     "execution_count": 10,
     "metadata": {},
     "output_type": "execute_result"
    }
   ],
   "source": [
    "np2"
   ]
  },
  {
   "cell_type": "code",
   "execution_count": 11,
   "id": "bd963167-14f8-4f7e-a637-de6c640e8d1f",
   "metadata": {},
   "outputs": [
    {
     "name": "stdout",
     "output_type": "stream",
     "text": [
      "(2, 10)\n"
     ]
    }
   ],
   "source": [
    "print(np2.shape)"
   ]
  },
  {
   "cell_type": "code",
   "execution_count": 12,
   "id": "83333f85-e228-464b-a470-a8e1ef52a0bd",
   "metadata": {},
   "outputs": [
    {
     "data": {
      "text/plain": [
       "dtype('float64')"
      ]
     },
     "execution_count": 12,
     "metadata": {},
     "output_type": "execute_result"
    }
   ],
   "source": [
    "np2.dtype"
   ]
  },
  {
   "cell_type": "code",
   "execution_count": 13,
   "id": "35e3c28e-e97a-44c5-ac75-ca29b1300b79",
   "metadata": {},
   "outputs": [
    {
     "data": {
      "text/plain": [
       "array([1, 2, 3, 4, 5, 6, 7, 8, 9])"
      ]
     },
     "execution_count": 13,
     "metadata": {},
     "output_type": "execute_result"
    }
   ],
   "source": [
    "np.arange(1,10)"
   ]
  },
  {
   "cell_type": "code",
   "execution_count": 14,
   "id": "72aedaad-03c9-4b6a-90f0-c3290246d159",
   "metadata": {},
   "outputs": [
    {
     "name": "stdout",
     "output_type": "stream",
     "text": [
      "[ 1.  2.  3.  4.  5.  6.  7.  8.  9. 10.]\n"
     ]
    }
   ],
   "source": [
    "print(np.linspace(1,10,10))"
   ]
  },
  {
   "cell_type": "code",
   "execution_count": 15,
   "id": "094d8142-b37b-4ce3-bc5b-c14d5ad20551",
   "metadata": {},
   "outputs": [],
   "source": [
    "np3 = np.empty((2,3)) #creates random matrix of 2 rows and 3 columns"
   ]
  },
  {
   "cell_type": "code",
   "execution_count": 16,
   "id": "cbe69b75-80bb-470f-ae0b-3b43f5a3f4df",
   "metadata": {},
   "outputs": [
    {
     "data": {
      "text/plain": [
       "array([[6.23042070e-307, 4.67296746e-307, 1.69121096e-306],\n",
       "       [7.56602523e-307, 6.23060744e-307, 2.22526399e-307]])"
      ]
     },
     "execution_count": 16,
     "metadata": {},
     "output_type": "execute_result"
    }
   ],
   "source": [
    "np3"
   ]
  },
  {
   "cell_type": "code",
   "execution_count": 17,
   "id": "1123691a-81a9-4fdc-8c9d-d561d5dd9c33",
   "metadata": {},
   "outputs": [],
   "source": [
    "np4 = np.empty((4,6))"
   ]
  },
  {
   "cell_type": "code",
   "execution_count": 18,
   "id": "6d4b37b7",
   "metadata": {},
   "outputs": [
    {
     "name": "stdout",
     "output_type": "stream",
     "text": [
      "[[6.23042070e-307 4.67296746e-307 1.69121096e-306 7.56602523e-307\n",
      "  6.23060744e-307 2.22526399e-307]\n",
      " [6.23053614e-307 1.29060871e-306 6.23055651e-307 1.06811422e-306\n",
      "  3.56043054e-307 1.37961641e-306]\n",
      " [1.05695167e-307 1.78020169e-306 7.56601165e-307 1.02359984e-306\n",
      "  1.33510679e-306 2.22522597e-306]\n",
      " [8.01097889e-307 7.56599807e-307 1.33512376e-306 1.37961709e-306\n",
      "  1.11260144e-306 8.34448533e-308]]\n"
     ]
    }
   ],
   "source": [
    "print(np4)"
   ]
  },
  {
   "cell_type": "code",
   "execution_count": 19,
   "id": "cdbc9c9c",
   "metadata": {},
   "outputs": [],
   "source": [
    "np5 = np.empty_like(np4)"
   ]
  },
  {
   "cell_type": "code",
   "execution_count": 20,
   "id": "a89d8d10",
   "metadata": {},
   "outputs": [
    {
     "data": {
      "text/plain": [
       "array([[6.23042070e-307, 4.67296746e-307, 1.69121096e-306,\n",
       "        7.56602523e-307, 6.23060744e-307, 2.22526399e-307],\n",
       "       [6.23053614e-307, 1.29060871e-306, 6.23055651e-307,\n",
       "        1.06811422e-306, 3.56043054e-307, 1.37961641e-306],\n",
       "       [1.05695167e-307, 1.78020169e-306, 7.56601165e-307,\n",
       "        1.02359984e-306, 1.33510679e-306, 2.22522597e-306],\n",
       "       [8.01097889e-307, 7.56599807e-307, 1.33512376e-306,\n",
       "        1.37961709e-306, 1.11260144e-306, 8.34448533e-308]])"
      ]
     },
     "execution_count": 20,
     "metadata": {},
     "output_type": "execute_result"
    }
   ],
   "source": [
    "np5"
   ]
  },
  {
   "cell_type": "markdown",
   "id": "7e6c61c3",
   "metadata": {},
   "source": [
    "# identity matrix"
   ]
  },
  {
   "cell_type": "code",
   "execution_count": 21,
   "id": "c540b210",
   "metadata": {},
   "outputs": [],
   "source": [
    "ide = np.identity(4)"
   ]
  },
  {
   "cell_type": "code",
   "execution_count": 22,
   "id": "2784cb6b",
   "metadata": {},
   "outputs": [
    {
     "data": {
      "text/plain": [
       "array([[1., 0., 0., 0.],\n",
       "       [0., 1., 0., 0.],\n",
       "       [0., 0., 1., 0.],\n",
       "       [0., 0., 0., 1.]])"
      ]
     },
     "execution_count": 22,
     "metadata": {},
     "output_type": "execute_result"
    }
   ],
   "source": [
    "ide"
   ]
  },
  {
   "cell_type": "code",
   "execution_count": 23,
   "id": "12c2b78d",
   "metadata": {},
   "outputs": [
    {
     "data": {
      "text/plain": [
       "(4, 4)"
      ]
     },
     "execution_count": 23,
     "metadata": {},
     "output_type": "execute_result"
    }
   ],
   "source": [
    "ide.shape"
   ]
  },
  {
   "cell_type": "markdown",
   "id": "9e2ae758",
   "metadata": {},
   "source": [
    "# RESHAPE and RAVEL"
   ]
  },
  {
   "cell_type": "code",
   "execution_count": 24,
   "id": "8d8d164c",
   "metadata": {},
   "outputs": [],
   "source": [
    "arr = np1.reshape((3,2))"
   ]
  },
  {
   "cell_type": "code",
   "execution_count": 25,
   "id": "b1707112",
   "metadata": {},
   "outputs": [
    {
     "data": {
      "text/plain": [
       "array([[1, 2],\n",
       "       [3, 4],\n",
       "       [5, 6]])"
      ]
     },
     "execution_count": 25,
     "metadata": {},
     "output_type": "execute_result"
    }
   ],
   "source": [
    "arr"
   ]
  },
  {
   "cell_type": "code",
   "execution_count": 26,
   "id": "0e5b6fc1",
   "metadata": {},
   "outputs": [],
   "source": [
    "arr1 = np.array([[1, 2],\n",
    "       [3, 4],\n",
    "       [5, 6]])"
   ]
  },
  {
   "cell_type": "code",
   "execution_count": 27,
   "id": "456a1398",
   "metadata": {},
   "outputs": [
    {
     "data": {
      "text/plain": [
       "array([1, 2, 3, 4, 5, 6])"
      ]
     },
     "execution_count": 27,
     "metadata": {},
     "output_type": "execute_result"
    }
   ],
   "source": [
    "arr.ravel()"
   ]
  },
  {
   "cell_type": "markdown",
   "id": "a4d4cc8e",
   "metadata": {},
   "source": [
    "# Axis"
   ]
  },
  {
   "cell_type": "code",
   "execution_count": 28,
   "id": "c11733b1",
   "metadata": {},
   "outputs": [],
   "source": [
    "x = [[1,2,3], [4,5,6], [7,8,9]]"
   ]
  },
  {
   "cell_type": "code",
   "execution_count": 29,
   "id": "bc24b8c8",
   "metadata": {},
   "outputs": [],
   "source": [
    "ar = np.array([ [1,2,3], \n",
    "                [4,5,6], \n",
    "                [7,8,9]])"
   ]
  },
  {
   "cell_type": "code",
   "execution_count": 30,
   "id": "7ff72d52",
   "metadata": {},
   "outputs": [
    {
     "data": {
      "text/plain": [
       "array([12, 15, 18])"
      ]
     },
     "execution_count": 30,
     "metadata": {},
     "output_type": "execute_result"
    }
   ],
   "source": [
    "ar.sum(axis=0) #sum of rows"
   ]
  },
  {
   "cell_type": "code",
   "execution_count": 31,
   "id": "2743b177",
   "metadata": {},
   "outputs": [
    {
     "data": {
      "text/plain": [
       "array([ 6, 15, 24])"
      ]
     },
     "execution_count": 31,
     "metadata": {},
     "output_type": "execute_result"
    }
   ],
   "source": [
    "ar.sum(axis=1) #sum of columns"
   ]
  },
  {
   "cell_type": "markdown",
   "id": "133c4be0",
   "metadata": {},
   "source": [
    "# TRANSPOSE"
   ]
  },
  {
   "cell_type": "code",
   "execution_count": 32,
   "id": "8932d1bb",
   "metadata": {},
   "outputs": [
    {
     "data": {
      "text/plain": [
       "array([[1, 4, 7],\n",
       "       [2, 5, 8],\n",
       "       [3, 6, 9]])"
      ]
     },
     "execution_count": 32,
     "metadata": {},
     "output_type": "execute_result"
    }
   ],
   "source": [
    "ar.T"
   ]
  },
  {
   "cell_type": "markdown",
   "id": "8294c3ef",
   "metadata": {},
   "source": [
    "# FLAT"
   ]
  },
  {
   "cell_type": "markdown",
   "id": "d0e1f646",
   "metadata": {},
   "source": [
    "* helps to run for loop"
   ]
  },
  {
   "cell_type": "code",
   "execution_count": 33,
   "id": "e2ab4b3a",
   "metadata": {},
   "outputs": [
    {
     "name": "stdout",
     "output_type": "stream",
     "text": [
      "1\n",
      "2\n",
      "3\n",
      "4\n",
      "5\n",
      "6\n",
      "7\n",
      "8\n",
      "9\n"
     ]
    }
   ],
   "source": [
    "for item in ar.flat:\n",
    "    print(item)"
   ]
  },
  {
   "cell_type": "code",
   "execution_count": 34,
   "id": "520cfe1b",
   "metadata": {},
   "outputs": [
    {
     "name": "stdout",
     "output_type": "stream",
     "text": [
      "0\n"
     ]
    }
   ],
   "source": [
    "print(ar.argmin())"
   ]
  },
  {
   "cell_type": "code",
   "execution_count": 35,
   "id": "b76f03d4",
   "metadata": {},
   "outputs": [
    {
     "name": "stdout",
     "output_type": "stream",
     "text": [
      "[[0 1 2]\n",
      " [0 1 2]\n",
      " [0 1 2]]\n"
     ]
    }
   ],
   "source": [
    "print(ar.argsort())   #give indexes to sort"
   ]
  },
  {
   "cell_type": "code",
   "execution_count": 36,
   "id": "fa9066f2",
   "metadata": {},
   "outputs": [
    {
     "data": {
      "text/plain": [
       "(array([0, 1, 1, 1, 2, 2, 2]), array([2, 0, 1, 2, 0, 1, 2]))"
      ]
     },
     "execution_count": 36,
     "metadata": {},
     "output_type": "execute_result"
    }
   ],
   "source": [
    "np.where(ar>2)"
   ]
  },
  {
   "cell_type": "code",
   "execution_count": 37,
   "id": "73db8283",
   "metadata": {},
   "outputs": [
    {
     "data": {
      "text/plain": [
       "array([[1, 2, 3],\n",
       "       [4, 5, 6],\n",
       "       [7, 8, 9]])"
      ]
     },
     "execution_count": 37,
     "metadata": {},
     "output_type": "execute_result"
    }
   ],
   "source": [
    "ar"
   ]
  },
  {
   "cell_type": "code",
   "execution_count": 38,
   "id": "d10fd524",
   "metadata": {},
   "outputs": [
    {
     "data": {
      "text/plain": [
       "9"
      ]
     },
     "execution_count": 38,
     "metadata": {},
     "output_type": "execute_result"
    }
   ],
   "source": [
    "np.count_nonzero(ar)"
   ]
  },
  {
   "cell_type": "code",
   "execution_count": 39,
   "id": "df8313c2",
   "metadata": {},
   "outputs": [],
   "source": [
    "ar[1,2] = 0"
   ]
  },
  {
   "cell_type": "code",
   "execution_count": 40,
   "id": "d0110199",
   "metadata": {},
   "outputs": [
    {
     "data": {
      "text/plain": [
       "array([[1, 2, 3],\n",
       "       [4, 5, 0],\n",
       "       [7, 8, 9]])"
      ]
     },
     "execution_count": 40,
     "metadata": {},
     "output_type": "execute_result"
    }
   ],
   "source": [
    "ar"
   ]
  }
 ],
 "metadata": {
  "kernelspec": {
   "display_name": "Python 3",
   "language": "python",
   "name": "python3"
  },
  "language_info": {
   "codemirror_mode": {
    "name": "ipython",
    "version": 3
   },
   "file_extension": ".py",
   "mimetype": "text/x-python",
   "name": "python",
   "nbconvert_exporter": "python",
   "pygments_lexer": "ipython3",
   "version": "3.13.2"
  }
 },
 "nbformat": 4,
 "nbformat_minor": 5
}
